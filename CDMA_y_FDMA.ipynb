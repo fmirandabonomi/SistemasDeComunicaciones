{
 "cells": [
  {
   "cell_type": "code",
   "execution_count": null,
   "metadata": {},
   "outputs": [],
   "source": [
    "%matplotlib inline\n",
    "import numpy as np\n",
    "import matplotlib.pyplot as plt\n",
    "import matplotlib"
   ]
  },
  {
   "cell_type": "code",
   "execution_count": null,
   "metadata": {},
   "outputs": [],
   "source": [
    "def ovsf(n):\n",
    "    \"\"\"Orthogonal Variable Spreading Factor\n",
    "    \\param n nivel del arbol de códigos. ovsf(n) tiene 2**(n-1) códigos de 2**(n-1) bits\n",
    "    \\returns arreglo 2**(n-1) * 2**(n-1) donde cada código es un vector fila (1 * 2**(n-1))\n",
    "    \"\"\"\n",
    "    if n<1: return np.array([[]]);\n",
    "    if n==1:\n",
    "        return np.array([[1]])\n",
    "    else:\n",
    "        anterior = ovsf(n-1)\n",
    "        return np.concatenate((np.concatenate((anterior,anterior),1),np.concatenate((anterior,-anterior),1)),0)"
   ]
  },
  {
   "cell_type": "code",
   "execution_count": null,
   "metadata": {},
   "outputs": [],
   "source": [
    "S=ovsf(5)"
   ]
  },
  {
   "cell_type": "code",
   "execution_count": null,
   "metadata": {},
   "outputs": [],
   "source": [
    "plt.figure(1)\n",
    "N = S.shape[1]\n",
    "n1 = int(round(N**.5))\n",
    "x=np.array(range(N))\n",
    "for i in range(S.shape[0]):\n",
    "    plt.subplot(n1,n1,i+1)\n",
    "    plt.stem(x,S[i,:])"
   ]
  },
  {
   "cell_type": "code",
   "execution_count": null,
   "metadata": {},
   "outputs": [],
   "source": [
    "x=2*S[0,:]-4*S[1,:]+7*S[3,:]"
   ]
  },
  {
   "cell_type": "code",
   "execution_count": null,
   "metadata": {},
   "outputs": [],
   "source": [
    "ovsf(4)"
   ]
  },
  {
   "cell_type": "code",
   "execution_count": null,
   "metadata": {},
   "outputs": [],
   "source": [
    "S[0,:].dot(S[6,:])"
   ]
  },
  {
   "cell_type": "code",
   "execution_count": null,
   "metadata": {},
   "outputs": [],
   "source": [
    "S[7,:].dot(x)/16"
   ]
  },
  {
   "cell_type": "code",
   "execution_count": null,
   "metadata": {},
   "outputs": [],
   "source": []
  },
  {
   "cell_type": "code",
   "execution_count": null,
   "metadata": {},
   "outputs": [],
   "source": []
  },
  {
   "cell_type": "code",
   "execution_count": null,
   "metadata": {},
   "outputs": [],
   "source": [
    "N=16"
   ]
  },
  {
   "cell_type": "code",
   "execution_count": null,
   "metadata": {},
   "outputs": [],
   "source": []
  },
  {
   "cell_type": "code",
   "execution_count": null,
   "metadata": {},
   "outputs": [],
   "source": [
    "plt.figure(2)\n",
    "f0 = N*np.eye(N,1).flatten();\n",
    "F=[]\n",
    "x=np.array(range(N))\n",
    "n1=int(round(N**.5))\n",
    "for i in range(N):\n",
    "    y=np.fft.ifft(np.roll(f0,i,0))\n",
    "    F.append(y)\n",
    "    plt.subplot(n1,n1,i+1)\n",
    "    plt.plot(x,np.real(y),'bo-')\n",
    "    plt.plot(x,np.imag(y),'ro-')"
   ]
  },
  {
   "cell_type": "code",
   "execution_count": null,
   "metadata": {},
   "outputs": [],
   "source": [
    "def codigoGray(nbits):\n",
    "    codigo = [0]*2**nbits\n",
    "    for bit in range(nbits):\n",
    "        indicador = 2**bit\n",
    "        for j in range(indicador):\n",
    "            codigo[j+indicador]=(codigo[indicador-1-j])|indicador\n",
    "    return codigo"
   ]
  },
  {
   "cell_type": "code",
   "execution_count": null,
   "metadata": {},
   "outputs": [],
   "source": [
    "np.sum(F[1]*F[-1])"
   ]
  },
  {
   "cell_type": "code",
   "execution_count": null,
   "metadata": {},
   "outputs": [],
   "source": [
    "x=F[0]+(1-1j)*F[1]-2j*F[2]+(1+4j)*F[3]"
   ]
  },
  {
   "cell_type": "code",
   "execution_count": null,
   "metadata": {},
   "outputs": [],
   "source": [
    "plt.figure()\n",
    "plt.plot(np.real(x))\n",
    "plt.plot(np.imag(x))"
   ]
  },
  {
   "cell_type": "code",
   "execution_count": null,
   "metadata": {},
   "outputs": [],
   "source": []
  }
 ],
 "metadata": {
  "interpreter": {
   "hash": "f8888cef93c0ab2dad8757649d3fb165fc7199744cbfe7914d8ac677a8dac0b4"
  },
  "kernelspec": {
   "display_name": "Python 3.8.5 ('base')",
   "language": "python",
   "name": "python3"
  },
  "language_info": {
   "codemirror_mode": {
    "name": "ipython",
    "version": 3
   },
   "file_extension": ".py",
   "mimetype": "text/x-python",
   "name": "python",
   "nbconvert_exporter": "python",
   "pygments_lexer": "ipython3",
   "version": "3.8.5"
  }
 },
 "nbformat": 4,
 "nbformat_minor": 4
}
